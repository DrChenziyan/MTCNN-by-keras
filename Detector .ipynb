{
 "cells": [
  {
   "cell_type": "markdown",
   "metadata": {},
   "source": [
    "# MTCNN Detector"
   ]
  },
  {
   "cell_type": "code",
   "execution_count": 1,
   "metadata": {},
   "outputs": [
    {
     "name": "stderr",
     "output_type": "stream",
     "text": [
      "Using TensorFlow backend.\n"
     ]
    }
   ],
   "source": [
    "import numpy as np\n",
    "import tensorflow as tf\n",
    "import cv2, h5py, os, sys\n",
    "from keras.layers import Conv2D, MaxPool2D, Input, Activation, BatchNormalization, Dense, Flatten\n",
    "from keras.layers.advanced_activations import PReLU\n",
    "from keras.models import Model, Sequential\n",
    "from MTCNN import create_Onet, create_Pnet, create_Rnet\n",
    "from mtcnn_utils import *"
   ]
  },
  {
   "cell_type": "markdown",
   "metadata": {},
   "source": [
    "## 1. Load the pre-trained weights \n",
    "\n",
    "Load the pre-trained weights through the `create_Pnet`, `create_Rnet`, `create_Onet` "
   ]
  },
  {
   "cell_type": "code",
   "execution_count": null,
   "metadata": {},
   "outputs": [],
   "source": [
    "P_Net = create_Pnet(\"model weights/12net.h5\")\n",
    "R_Net = create_Rnet(\"model weights/24net.h5\")\n",
    "O_Net = create_Onet(\"model weights/48net.h5\")"
   ]
  },
  {
   "cell_type": "markdown",
   "metadata": {},
   "source": [
    "## 2. Face Detection \n",
    "1. Define a function which loads the image and pre-processes \n",
    "\n",
    "2. Run the `P_Net` and `detect_face_12net`\n",
    "\n",
    "3. Run the `R_Net` and `detect_face_24net`\n",
    "\n",
    "4. Run the `O_Net` and `detect_face_48net`\n",
    "\n",
    "**Notation:**\n",
    "- Notice the *channels order* when pass the parameters.\n",
    "\n",
    "- Notice the meaning of the parameters of the function `detect_face_12net`,`detect_face_24net`,`detect_face_48net`"
   ]
  },
  {
   "cell_type": "code",
   "execution_count": 3,
   "metadata": {
    "scrolled": true
   },
   "outputs": [],
   "source": [
    "def face_detection(img, threshold):\n",
    "    # imgae Normalization\n",
    "    norm_img = (img.copy() - 127.5) / 128                     # imgae pixels range (0, 255)\n",
    "    origin_H, origin_W, origin_C = norm_img.shape\n",
    "    \n",
    "    sacles = calculate_scales(norm_img)\n",
    "    \n",
    "    ### Step 1 : Run P-Net and post process\n",
    "    out = []\n",
    "    for sacle in sacles:\n",
    "        temp_H = int(origin_H * sacle)\n",
    "        temp_W = int(origin_W * sacle)\n",
    "        sacle_img = cv2.resize(norm_img, (temp_W, temp_H))     # resize the image\n",
    "#         print(temp_H, temp_W)\n",
    "        inputs = sacle_img.reshape(1, *sacle_img.shape)        # add a dimension to keep the NCHW(m, n_C, n_H, n_W)\n",
    "        output = P_Net.predict(inputs)\n",
    "        out.append(output)\n",
    "        \n",
    "        rectangles = []                         # define a list to store the output of \"detect_face_12net\"\n",
    "    for i in range (len(sacles)):\n",
    "        # i = #scale, first 0 select cls score, second 0 = batchnum\n",
    "        cls_prob = out[i][0][0][:, :, 1]        # the confidence of the output, which means the probablity of the face at the temp_window\n",
    "        roi = out[i][1][0]                      # the position of the output\n",
    "        out_h, out_w = cls_prob.shape\n",
    "        out_side = max(out_h, out_w)\n",
    "        \n",
    "        # dimensions change for better computation\n",
    "        cls_prob = np.swapaxes(cls_prob, 0, 1)\n",
    "        roi = np.swapaxes(roi, 0, 2)\n",
    "#         print(cls_prob.shape)\n",
    "        \n",
    "        rectangle = detect_face_12net(cls_prob, roi, out_side, 1/sacles[i], origin_W, origin_H, threshold[0])\n",
    "        rectangles.extend(rectangle)\n",
    "        \n",
    "    rectangles = non_max_suppression(rectangles, 0.6)\n",
    "    print(\"P-Net rectangles shape = \" + str(np.shape(rectangles)))\n",
    "    \n",
    "    if len(rectangles) == 0:\n",
    "        return rectangles\n",
    "    \n",
    "    \n",
    "    ### Step 2: Run R-Net and post process\n",
    "    predict_24_batch = []\n",
    "    R_net_out = []\n",
    "    for rectangle in  rectangles:\n",
    "        # crop the image from the initial norm image\n",
    "        crop_img = norm_img[int(rectangle[1]): int(rectangle[3]), int(rectangle[0]): int(rectangle[2])]\n",
    "        sacle_img = cv2.resize(crop_img, (24, 24))\n",
    "        predict_24_batch.append(sacle_img)        # store the all crop imgaes into a list\n",
    "        \n",
    "    predict_24_batch = np.array(predict_24_batch)\n",
    "    R_net_out = R_Net.predict(predict_24_batch)   # 'R_net_out' is a list\n",
    "    \n",
    "    rnet_cls_prob = R_net_out[0]                  # R-Net output is [classifier, bbox_regress]  \n",
    "    rnet_cls_prob = np.array(rnet_cls_prob)\n",
    "    rnet_roi = R_net_out[1]\n",
    "    rnet_roi = np.array(rnet_roi)\n",
    "    \n",
    "    rectangles = filter_face_24net(rnet_cls_prob, rnet_roi, rectangles, origin_W, origin_H, threshold[1])\n",
    "    print(\"R-Net rectangles shape = \" + str(np.shape(rectangles)))\n",
    "    \n",
    "    if len(rectangles) == 0:\n",
    "        return rectangles\n",
    "    \n",
    "    ### Step 3: Run O-Net and post process\n",
    "    predict_48_batch = []\n",
    "    O_net_out = []\n",
    "    for rectangle in rectangles:\n",
    "        crop_img = norm_img[int(rectangle[1]): int(rectangle[3]), int(rectangle[0]): int(rectangle[2])]\n",
    "        sacle_img = cv2.resize(crop_img, (48, 48))\n",
    "        predict_48_batch.append(sacle_img)\n",
    "        \n",
    "    predict_48_batch = np.array(predict_48_batch)\n",
    "    O_net_out = O_Net.predict(predict_48_batch)\n",
    "    \n",
    "    # O-Net output is [classifier, bbox_regress, landmark_regress]\n",
    "    onet_cls_prob = O_net_out[0]\n",
    "#     onet_cls_prob = np.array(onet_cls_prob)\n",
    "    onet_roi = O_net_out[1]\n",
    "#     onet_roi = np.array(onet_roi)\n",
    "    onet_pts = O_net_out[2]\n",
    "#     onet_pts = np.array(onet_pts)\n",
    "    \n",
    "    rectangles = filter_face_48net(onet_cls_prob, onet_roi, onet_pts, rectangles, origin_W, origin_H, threshold[2])\n",
    "    print(\"O-Net rectangles shape = \" + str(np.shape(rectangles)))\n",
    "    \n",
    "    return rectangles"
   ]
  },
  {
   "cell_type": "code",
   "execution_count": 4,
   "metadata": {},
   "outputs": [],
   "source": [
    "img = cv2.imread(\"image/test_image.jpeg\")\n",
    "threshold = [0.5, 0.6, 0.7]"
   ]
  },
  {
   "cell_type": "code",
   "execution_count": 5,
   "metadata": {
    "scrolled": false
   },
   "outputs": [
    {
     "name": "stdout",
     "output_type": "stream",
     "text": [
      "P-Net rectangles shape = (942, 5)\n",
      "R-Net rectangles shape = (226, 5)\n",
      "O-Net rectangles shape = (10, 15)\n"
     ]
    }
   ],
   "source": [
    "rectangles = face_detection(img, threshold)"
   ]
  },
  {
   "cell_type": "markdown",
   "metadata": {},
   "source": [
    "## 3. Display the image"
   ]
  },
  {
   "cell_type": "code",
   "execution_count": 6,
   "metadata": {},
   "outputs": [
    {
     "data": {
      "text/plain": [
       "True"
      ]
     },
     "execution_count": 6,
     "metadata": {},
     "output_type": "execute_result"
    }
   ],
   "source": [
    "draw = img.copy()\n",
    "for rectangle in rectangles:\n",
    "    if rectangle is not None:\n",
    "        W = -int(rectangle[0]) + int(rectangle[2])\n",
    "        H = -int(rectangle[1]) + int(rectangle[3])\n",
    "        padding_H = 0.01 * W\n",
    "        padding_W = 0.01 * H\n",
    "        crop_img = img[int(rectangle[1]+padding_H):int(rectangle[3]-padding_H), int(rectangle[0]-padding_W):int(rectangle[2]+padding_W)]\n",
    "        crop_img = cv2.cvtColor(crop_img, cv2.COLOR_RGB2GRAY)\n",
    "        if crop_img is None:\n",
    "            continue\n",
    "        if crop_img.shape[0] < 0 or crop_img.shape[1] < 0:\n",
    "            continue\n",
    "        cv2.rectangle(draw, (int(rectangle[0]), int(rectangle[1])), (int(rectangle[2]), int(rectangle[3])), (255, 0, 0), 1)\n",
    "\n",
    "        for i in range(5, 15, 2):\n",
    "            cv2.circle(draw, (int(rectangle[i + 0]), int(rectangle[i + 1])), 2, (0, 255, 0))\n",
    "\n",
    "\n",
    "cv2.imwrite(\"image/out/test.jpg\", draw)                       \n"
   ]
  },
  {
   "cell_type": "code",
   "execution_count": 7,
   "metadata": {},
   "outputs": [
    {
     "name": "stdout",
     "output_type": "stream",
     "text": [
      "P-Net rectangles shape = (1713, 5)\n",
      "R-Net rectangles shape = (246, 5)\n",
      "O-Net rectangles shape = (10, 15)\n"
     ]
    },
    {
     "data": {
      "text/plain": [
       "True"
      ]
     },
     "execution_count": 7,
     "metadata": {},
     "output_type": "execute_result"
    }
   ],
   "source": [
    "mayday = cv2.imread(\"image/test_image2.jpeg\")\n",
    "threshold = [0.6, 0.6, 0.7]\n",
    "rectangles = face_detection(mayday, threshold)\n",
    "draw = mayday.copy()\n",
    "\n",
    "for rectangle in rectangles:\n",
    "    if rectangle is not None:\n",
    "        W = -int(rectangle[0]) + int(rectangle[2])\n",
    "        H = -int(rectangle[1]) + int(rectangle[3])\n",
    "        padding_H = 0.01 * W\n",
    "        padding_W = 0.01 * H\n",
    "        crop_img = img[int(rectangle[1]+padding_H):int(rectangle[3]-padding_H), int(rectangle[0]-padding_W):int(rectangle[2]+padding_W)]\n",
    "#         crop_img = cv2.cvtColor(crop_img, cv2.COLOR_RGB2GRAY)\n",
    "        if crop_img is None:\n",
    "            continue\n",
    "        if crop_img.shape[0] < 0 or crop_img.shape[1] < 0:\n",
    "            continue\n",
    "        cv2.rectangle(draw, (int(rectangle[0]), int(rectangle[1])), (int(rectangle[2]), int(rectangle[3])), (255, 0, 0), 1)\n",
    "\n",
    "        for i in range(5, 15, 2):\n",
    "            cv2.circle(draw, (int(rectangle[i + 0]), int(rectangle[i + 1])), 2, (0, 255, 0))\n",
    "\n",
    "\n",
    "cv2.imwrite(\"image/out/testing.jpg\", draw)                       \n",
    "\n",
    "c = cv2.waitKey(0)"
   ]
  },
  {
   "cell_type": "code",
   "execution_count": 8,
   "metadata": {},
   "outputs": [
    {
     "name": "stdout",
     "output_type": "stream",
     "text": [
      "P-Net rectangles shape = (1100, 5)\n",
      "R-Net rectangles shape = (89, 5)\n",
      "O-Net rectangles shape = (9, 15)\n"
     ]
    },
    {
     "data": {
      "text/plain": [
       "True"
      ]
     },
     "execution_count": 8,
     "metadata": {},
     "output_type": "execute_result"
    }
   ],
   "source": [
    "my_image = cv2.imread(\"image/timg.jpeg\")\n",
    "threshold = [0.4, 0.6, 0.7]\n",
    "rectangles = face_detection(my_image, threshold)\n",
    "draw = my_image.copy()\n",
    "\n",
    "for rectangle in rectangles:\n",
    "    if rectangle is not None:\n",
    "        W = -int(rectangle[0]) + int(rectangle[2])\n",
    "        H = -int(rectangle[1]) + int(rectangle[3])\n",
    "        padding_H = 0.01 * W\n",
    "        padding_W = 0.01 * H\n",
    "        crop_img = my_image[int(rectangle[1]+padding_H):int(rectangle[3]-padding_H), int(rectangle[0]-padding_W):int(rectangle[2]+padding_W)]\n",
    "#         crop_img = cv2.cvtColor(crop_img, cv2.COLOR_RGB2GRAY)\n",
    "        if crop_img is None:\n",
    "            continue\n",
    "        if crop_img.shape[0] < 0 or crop_img.shape[1] < 0:\n",
    "            continue\n",
    "        cv2.rectangle(draw, (int(rectangle[0]), int(rectangle[1])), (int(rectangle[2]), int(rectangle[3])), (255, 0, 0), 1)\n",
    "\n",
    "        for i in range(5, 15, 2):\n",
    "            cv2.circle(draw, (int(rectangle[i + 0]), int(rectangle[i + 1])), 2, (0, 255, 0))\n",
    "\n",
    "\n",
    "cv2.imwrite(\"image/out/out.jpg\", draw)                       \n",
    "\n",
    "c = cv2.waitKey(0)"
   ]
  }
 ],
 "metadata": {
  "kernelspec": {
   "display_name": "Python 3",
   "language": "python",
   "name": "python3"
  },
  "language_info": {
   "codemirror_mode": {
    "name": "ipython",
    "version": 3
   },
   "file_extension": ".py",
   "mimetype": "text/x-python",
   "name": "python",
   "nbconvert_exporter": "python",
   "pygments_lexer": "ipython3",
   "version": "3.7.4"
  }
 },
 "nbformat": 4,
 "nbformat_minor": 2
}
